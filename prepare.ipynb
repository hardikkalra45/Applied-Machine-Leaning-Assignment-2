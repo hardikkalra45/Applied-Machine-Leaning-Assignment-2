{
  "nbformat": 4,
  "nbformat_minor": 0,
  "metadata": {
    "colab": {
      "provenance": []
    },
    "kernelspec": {
      "name": "python3",
      "display_name": "Python 3"
    },
    "language_info": {
      "name": "python"
    }
  },
  "cells": [
    {
      "cell_type": "code",
      "source": [
        "!pip install dvc"
      ],
      "metadata": {
        "colab": {
          "base_uri": "https://localhost:8080/",
          "height": 1000
        },
        "id": "c7gtBNXqkQLD",
        "outputId": "081b96cf-27bc-41bc-f9f7-953a38019ddd"
      },
      "execution_count": 1,
      "outputs": [
        {
          "output_type": "stream",
          "name": "stdout",
          "text": [
            "Collecting dvc\n",
            "  Downloading dvc-3.47.0-py3-none-any.whl (440 kB)\n",
            "\u001b[2K     \u001b[90m━━━━━━━━━━━━━━━━━━━━━━━━━━━━━━━━━━━━━━━━\u001b[0m \u001b[32m440.9/440.9 kB\u001b[0m \u001b[31m2.9 MB/s\u001b[0m eta \u001b[36m0:00:00\u001b[0m\n",
            "\u001b[?25hCollecting colorama>=0.3.9 (from dvc)\n",
            "  Downloading colorama-0.4.6-py2.py3-none-any.whl (25 kB)\n",
            "Collecting configobj>=5.0.6 (from dvc)\n",
            "  Downloading configobj-5.0.8-py2.py3-none-any.whl (36 kB)\n",
            "Requirement already satisfied: distro>=1.3 in /usr/lib/python3/dist-packages (from dvc) (1.7.0)\n",
            "Collecting dpath<3,>=2.1.0 (from dvc)\n",
            "  Downloading dpath-2.1.6-py3-none-any.whl (17 kB)\n",
            "Collecting dvc-data<3.14,>=3.13 (from dvc)\n",
            "  Downloading dvc_data-3.13.0-py3-none-any.whl (71 kB)\n",
            "\u001b[2K     \u001b[90m━━━━━━━━━━━━━━━━━━━━━━━━━━━━━━━━━━━━━━━━\u001b[0m \u001b[32m71.6/71.6 kB\u001b[0m \u001b[31m8.6 MB/s\u001b[0m eta \u001b[36m0:00:00\u001b[0m\n",
            "\u001b[?25hCollecting dvc-http>=2.29.0 (from dvc)\n",
            "  Downloading dvc_http-2.32.0-py3-none-any.whl (12 kB)\n",
            "Collecting dvc-render<2,>=1.0.1 (from dvc)\n",
            "  Downloading dvc_render-1.0.1-py3-none-any.whl (22 kB)\n",
            "Collecting dvc-studio-client<1,>=0.20 (from dvc)\n",
            "  Downloading dvc_studio_client-0.20.0-py3-none-any.whl (16 kB)\n",
            "Collecting dvc-task<1,>=0.3.0 (from dvc)\n",
            "  Downloading dvc_task-0.3.0-py3-none-any.whl (21 kB)\n",
            "Collecting flatten-dict<1,>=0.4.1 (from dvc)\n",
            "  Downloading flatten_dict-0.4.2-py2.py3-none-any.whl (9.7 kB)\n",
            "Collecting flufl.lock<8,>=5 (from dvc)\n",
            "  Downloading flufl.lock-7.1.1-py3-none-any.whl (11 kB)\n",
            "Collecting funcy>=1.14 (from dvc)\n",
            "  Downloading funcy-2.0-py2.py3-none-any.whl (30 kB)\n",
            "Collecting grandalf<1,>=0.7 (from dvc)\n",
            "  Downloading grandalf-0.8-py3-none-any.whl (41 kB)\n",
            "\u001b[2K     \u001b[90m━━━━━━━━━━━━━━━━━━━━━━━━━━━━━━━━━━━━━━━━\u001b[0m \u001b[32m41.8/41.8 kB\u001b[0m \u001b[31m4.3 MB/s\u001b[0m eta \u001b[36m0:00:00\u001b[0m\n",
            "\u001b[?25hCollecting gto<2,>=1.6.0 (from dvc)\n",
            "  Downloading gto-1.7.0-py3-none-any.whl (46 kB)\n",
            "\u001b[2K     \u001b[90m━━━━━━━━━━━━━━━━━━━━━━━━━━━━━━━━━━━━━━━━\u001b[0m \u001b[32m46.6/46.6 kB\u001b[0m \u001b[31m5.9 MB/s\u001b[0m eta \u001b[36m0:00:00\u001b[0m\n",
            "\u001b[?25hCollecting hydra-core>=1.1 (from dvc)\n",
            "  Downloading hydra_core-1.3.2-py3-none-any.whl (154 kB)\n",
            "\u001b[2K     \u001b[90m━━━━━━━━━━━━━━━━━━━━━━━━━━━━━━━━━━━━━━━━\u001b[0m \u001b[32m154.5/154.5 kB\u001b[0m \u001b[31m15.9 MB/s\u001b[0m eta \u001b[36m0:00:00\u001b[0m\n",
            "\u001b[?25hCollecting iterative-telemetry>=0.0.7 (from dvc)\n",
            "  Downloading iterative_telemetry-0.0.8-py3-none-any.whl (10 kB)\n",
            "Requirement already satisfied: networkx>=2.5 in /usr/local/lib/python3.10/dist-packages (from dvc) (3.2.1)\n",
            "Requirement already satisfied: packaging>=19 in /usr/local/lib/python3.10/dist-packages (from dvc) (23.2)\n",
            "Collecting pathspec>=0.10.3 (from dvc)\n",
            "  Downloading pathspec-0.12.1-py3-none-any.whl (31 kB)\n",
            "Collecting platformdirs<4,>=3.1.1 (from dvc)\n",
            "  Downloading platformdirs-3.11.0-py3-none-any.whl (17 kB)\n",
            "Requirement already satisfied: psutil>=5.8 in /usr/local/lib/python3.10/dist-packages (from dvc) (5.9.5)\n",
            "Requirement already satisfied: pydot>=1.2.4 in /usr/local/lib/python3.10/dist-packages (from dvc) (1.4.2)\n",
            "Collecting pygtrie>=2.3.2 (from dvc)\n",
            "  Downloading pygtrie-2.5.0-py3-none-any.whl (25 kB)\n",
            "Requirement already satisfied: pyparsing>=2.4.7 in /usr/local/lib/python3.10/dist-packages (from dvc) (3.1.1)\n",
            "Requirement already satisfied: requests>=2.22 in /usr/local/lib/python3.10/dist-packages (from dvc) (2.31.0)\n",
            "Requirement already satisfied: rich>=12 in /usr/local/lib/python3.10/dist-packages (from dvc) (13.7.0)\n",
            "Collecting ruamel.yaml>=0.17.11 (from dvc)\n",
            "  Downloading ruamel.yaml-0.18.6-py3-none-any.whl (117 kB)\n",
            "\u001b[2K     \u001b[90m━━━━━━━━━━━━━━━━━━━━━━━━━━━━━━━━━━━━━━━━\u001b[0m \u001b[32m117.8/117.8 kB\u001b[0m \u001b[31m13.9 MB/s\u001b[0m eta \u001b[36m0:00:00\u001b[0m\n",
            "\u001b[?25hCollecting scmrepo<4,>=3 (from dvc)\n",
            "  Downloading scmrepo-3.1.0-py3-none-any.whl (71 kB)\n",
            "\u001b[2K     \u001b[90m━━━━━━━━━━━━━━━━━━━━━━━━━━━━━━━━━━━━━━━━\u001b[0m \u001b[32m71.7/71.7 kB\u001b[0m \u001b[31m9.1 MB/s\u001b[0m eta \u001b[36m0:00:00\u001b[0m\n",
            "\u001b[?25hCollecting shortuuid>=0.5 (from dvc)\n",
            "  Downloading shortuuid-1.0.11-py3-none-any.whl (10 kB)\n",
            "Collecting shtab<2,>=1.3.4 (from dvc)\n",
            "  Downloading shtab-1.7.0-py3-none-any.whl (14 kB)\n",
            "Requirement already satisfied: tabulate>=0.8.7 in /usr/local/lib/python3.10/dist-packages (from dvc) (0.9.0)\n",
            "Collecting tomlkit>=0.11.1 (from dvc)\n",
            "  Downloading tomlkit-0.12.3-py3-none-any.whl (37 kB)\n",
            "Requirement already satisfied: tqdm<5,>=4.63.1 in /usr/local/lib/python3.10/dist-packages (from dvc) (4.66.2)\n",
            "Collecting voluptuous>=0.11.7 (from dvc)\n",
            "  Downloading voluptuous-0.14.2-py3-none-any.whl (31 kB)\n",
            "Collecting zc.lockfile>=1.2.1 (from dvc)\n",
            "  Downloading zc.lockfile-3.0.post1-py3-none-any.whl (9.8 kB)\n",
            "Requirement already satisfied: six in /usr/local/lib/python3.10/dist-packages (from configobj>=5.0.6->dvc) (1.16.0)\n",
            "Collecting dictdiffer>=0.8.1 (from dvc-data<3.14,>=3.13->dvc)\n",
            "  Downloading dictdiffer-0.9.0-py2.py3-none-any.whl (16 kB)\n",
            "Collecting dvc-objects<6,>=4.0.1 (from dvc-data<3.14,>=3.13->dvc)\n",
            "  Downloading dvc_objects-5.0.0-py3-none-any.whl (33 kB)\n",
            "Collecting fsspec>=2024.2.0 (from dvc-data<3.14,>=3.13->dvc)\n",
            "  Downloading fsspec-2024.2.0-py3-none-any.whl (170 kB)\n",
            "\u001b[2K     \u001b[90m━━━━━━━━━━━━━━━━━━━━━━━━━━━━━━━━━━━━━━━━\u001b[0m \u001b[32m170.9/170.9 kB\u001b[0m \u001b[31m18.3 MB/s\u001b[0m eta \u001b[36m0:00:00\u001b[0m\n",
            "\u001b[?25hCollecting diskcache>=5.2.1 (from dvc-data<3.14,>=3.13->dvc)\n",
            "  Downloading diskcache-5.6.3-py3-none-any.whl (45 kB)\n",
            "\u001b[2K     \u001b[90m━━━━━━━━━━━━━━━━━━━━━━━━━━━━━━━━━━━━━━━━\u001b[0m \u001b[32m45.5/45.5 kB\u001b[0m \u001b[31m5.4 MB/s\u001b[0m eta \u001b[36m0:00:00\u001b[0m\n",
            "\u001b[?25hRequirement already satisfied: attrs>=21.3.0 in /usr/local/lib/python3.10/dist-packages (from dvc-data<3.14,>=3.13->dvc) (23.2.0)\n",
            "Collecting sqltrie<1,>=0.11.0 (from dvc-data<3.14,>=3.13->dvc)\n",
            "  Downloading sqltrie-0.11.0-py3-none-any.whl (17 kB)\n",
            "Requirement already satisfied: fsspec[http] in /usr/local/lib/python3.10/dist-packages (from dvc-http>=2.29.0->dvc) (2023.6.0)\n",
            "Collecting aiohttp-retry>=2.5.0 (from dvc-http>=2.29.0->dvc)\n",
            "  Downloading aiohttp_retry-2.8.3-py3-none-any.whl (9.8 kB)\n",
            "Collecting dulwich (from dvc-studio-client<1,>=0.20->dvc)\n",
            "  Downloading dulwich-0.21.7-cp310-cp310-manylinux_2_17_x86_64.manylinux2014_x86_64.whl (514 kB)\n",
            "\u001b[2K     \u001b[90m━━━━━━━━━━━━━━━━━━━━━━━━━━━━━━━━━━━━━━━━\u001b[0m \u001b[32m514.7/514.7 kB\u001b[0m \u001b[31m10.1 MB/s\u001b[0m eta \u001b[36m0:00:00\u001b[0m\n",
            "\u001b[?25hCollecting celery<6,>=5.3.0 (from dvc-task<1,>=0.3.0->dvc)\n",
            "  Downloading celery-5.3.6-py3-none-any.whl (422 kB)\n",
            "\u001b[2K     \u001b[90m━━━━━━━━━━━━━━━━━━━━━━━━━━━━━━━━━━━━━━━━\u001b[0m \u001b[32m422.0/422.0 kB\u001b[0m \u001b[31m37.0 MB/s\u001b[0m eta \u001b[36m0:00:00\u001b[0m\n",
            "\u001b[?25hCollecting kombu<6,>=5.3.0 (from dvc-task<1,>=0.3.0->dvc)\n",
            "  Downloading kombu-5.3.5-py3-none-any.whl (200 kB)\n",
            "\u001b[2K     \u001b[90m━━━━━━━━━━━━━━━━━━━━━━━━━━━━━━━━━━━━━━━━\u001b[0m \u001b[32m200.0/200.0 kB\u001b[0m \u001b[31m23.2 MB/s\u001b[0m eta \u001b[36m0:00:00\u001b[0m\n",
            "\u001b[?25hRequirement already satisfied: atpublic>=2.3 in /usr/local/lib/python3.10/dist-packages (from flufl.lock<8,>=5->dvc) (4.0)\n",
            "Requirement already satisfied: typer>=0.4.1 in /usr/local/lib/python3.10/dist-packages (from gto<2,>=1.6.0->dvc) (0.9.0)\n",
            "Requirement already satisfied: pydantic!=2.0.0,<3,>=1.9.0 in /usr/local/lib/python3.10/dist-packages (from gto<2,>=1.6.0->dvc) (2.6.1)\n",
            "Collecting semver>=3.0.0 (from gto<2,>=1.6.0->dvc)\n",
            "  Downloading semver-3.0.2-py3-none-any.whl (17 kB)\n",
            "Requirement already satisfied: entrypoints in /usr/local/lib/python3.10/dist-packages (from gto<2,>=1.6.0->dvc) (0.4)\n",
            "Collecting omegaconf<2.4,>=2.2 (from hydra-core>=1.1->dvc)\n",
            "  Downloading omegaconf-2.3.0-py3-none-any.whl (79 kB)\n",
            "\u001b[2K     \u001b[90m━━━━━━━━━━━━━━━━━━━━━━━━━━━━━━━━━━━━━━━━\u001b[0m \u001b[32m79.5/79.5 kB\u001b[0m \u001b[31m9.8 MB/s\u001b[0m eta \u001b[36m0:00:00\u001b[0m\n",
            "\u001b[?25hCollecting antlr4-python3-runtime==4.9.* (from hydra-core>=1.1->dvc)\n",
            "  Downloading antlr4-python3-runtime-4.9.3.tar.gz (117 kB)\n",
            "\u001b[2K     \u001b[90m━━━━━━━━━━━━━━━━━━━━━━━━━━━━━━━━━━━━━━━━\u001b[0m \u001b[32m117.0/117.0 kB\u001b[0m \u001b[31m14.6 MB/s\u001b[0m eta \u001b[36m0:00:00\u001b[0m\n",
            "\u001b[?25h  Preparing metadata (setup.py) ... \u001b[?25l\u001b[?25hdone\n",
            "Requirement already satisfied: appdirs in /usr/local/lib/python3.10/dist-packages (from iterative-telemetry>=0.0.7->dvc) (1.4.4)\n",
            "Requirement already satisfied: filelock in /usr/local/lib/python3.10/dist-packages (from iterative-telemetry>=0.0.7->dvc) (3.13.1)\n",
            "Requirement already satisfied: charset-normalizer<4,>=2 in /usr/local/lib/python3.10/dist-packages (from requests>=2.22->dvc) (3.3.2)\n",
            "Requirement already satisfied: idna<4,>=2.5 in /usr/local/lib/python3.10/dist-packages (from requests>=2.22->dvc) (3.6)\n",
            "Requirement already satisfied: urllib3<3,>=1.21.1 in /usr/local/lib/python3.10/dist-packages (from requests>=2.22->dvc) (2.0.7)\n",
            "Requirement already satisfied: certifi>=2017.4.17 in /usr/local/lib/python3.10/dist-packages (from requests>=2.22->dvc) (2024.2.2)\n",
            "Requirement already satisfied: markdown-it-py>=2.2.0 in /usr/local/lib/python3.10/dist-packages (from rich>=12->dvc) (3.0.0)\n",
            "Requirement already satisfied: pygments<3.0.0,>=2.13.0 in /usr/local/lib/python3.10/dist-packages (from rich>=12->dvc) (2.16.1)\n",
            "Collecting ruamel.yaml.clib>=0.2.7 (from ruamel.yaml>=0.17.11->dvc)\n",
            "  Downloading ruamel.yaml.clib-0.2.8-cp310-cp310-manylinux_2_17_x86_64.manylinux2014_x86_64.manylinux_2_24_x86_64.whl (526 kB)\n",
            "\u001b[2K     \u001b[90m━━━━━━━━━━━━━━━━━━━━━━━━━━━━━━━━━━━━━━━━\u001b[0m \u001b[32m526.7/526.7 kB\u001b[0m \u001b[31m36.6 MB/s\u001b[0m eta \u001b[36m0:00:00\u001b[0m\n",
            "\u001b[?25hCollecting gitpython>3 (from scmrepo<4,>=3->dvc)\n",
            "  Downloading GitPython-3.1.42-py3-none-any.whl (195 kB)\n",
            "\u001b[2K     \u001b[90m━━━━━━━━━━━━━━━━━━━━━━━━━━━━━━━━━━━━━━━━\u001b[0m \u001b[32m195.4/195.4 kB\u001b[0m \u001b[31m23.4 MB/s\u001b[0m eta \u001b[36m0:00:00\u001b[0m\n",
            "\u001b[?25hCollecting pygit2>=1.14.0 (from scmrepo<4,>=3->dvc)\n",
            "  Downloading pygit2-1.14.1-cp310-cp310-manylinux_2_17_x86_64.manylinux2014_x86_64.whl (5.1 MB)\n",
            "\u001b[2K     \u001b[90m━━━━━━━━━━━━━━━━━━━━━━━━━━━━━━━━━━━━━━━━\u001b[0m \u001b[32m5.1/5.1 MB\u001b[0m \u001b[31m40.5 MB/s\u001b[0m eta \u001b[36m0:00:00\u001b[0m\n",
            "\u001b[?25hCollecting asyncssh<3,>=2.13.1 (from scmrepo<4,>=3->dvc)\n",
            "  Downloading asyncssh-2.14.2-py3-none-any.whl (352 kB)\n",
            "\u001b[2K     \u001b[90m━━━━━━━━━━━━━━━━━━━━━━━━━━━━━━━━━━━━━━━━\u001b[0m \u001b[32m352.5/352.5 kB\u001b[0m \u001b[31m36.6 MB/s\u001b[0m eta \u001b[36m0:00:00\u001b[0m\n",
            "\u001b[?25hRequirement already satisfied: setuptools in /usr/local/lib/python3.10/dist-packages (from zc.lockfile>=1.2.1->dvc) (67.7.2)\n",
            "Requirement already satisfied: aiohttp in /usr/local/lib/python3.10/dist-packages (from aiohttp-retry>=2.5.0->dvc-http>=2.29.0->dvc) (3.9.3)\n",
            "Requirement already satisfied: cryptography>=39.0 in /usr/local/lib/python3.10/dist-packages (from asyncssh<3,>=2.13.1->scmrepo<4,>=3->dvc) (42.0.3)\n",
            "Requirement already satisfied: typing-extensions>=3.6 in /usr/local/lib/python3.10/dist-packages (from asyncssh<3,>=2.13.1->scmrepo<4,>=3->dvc) (4.9.0)\n",
            "Collecting billiard<5.0,>=4.2.0 (from celery<6,>=5.3.0->dvc-task<1,>=0.3.0->dvc)\n",
            "  Downloading billiard-4.2.0-py3-none-any.whl (86 kB)\n",
            "\u001b[2K     \u001b[90m━━━━━━━━━━━━━━━━━━━━━━━━━━━━━━━━━━━━━━━━\u001b[0m \u001b[32m86.7/86.7 kB\u001b[0m \u001b[31m12.4 MB/s\u001b[0m eta \u001b[36m0:00:00\u001b[0m\n",
            "\u001b[?25hCollecting click-didyoumean>=0.3.0 (from celery<6,>=5.3.0->dvc-task<1,>=0.3.0->dvc)\n",
            "  Downloading click_didyoumean-0.3.0-py3-none-any.whl (2.7 kB)\n",
            "Requirement already satisfied: click-plugins>=1.1.1 in /usr/local/lib/python3.10/dist-packages (from celery<6,>=5.3.0->dvc-task<1,>=0.3.0->dvc) (1.1.1)\n",
            "Collecting click-repl>=0.2.0 (from celery<6,>=5.3.0->dvc-task<1,>=0.3.0->dvc)\n",
            "  Downloading click_repl-0.3.0-py3-none-any.whl (10 kB)\n",
            "Requirement already satisfied: click<9.0,>=8.1.2 in /usr/local/lib/python3.10/dist-packages (from celery<6,>=5.3.0->dvc-task<1,>=0.3.0->dvc) (8.1.7)\n",
            "Requirement already satisfied: python-dateutil>=2.8.2 in /usr/local/lib/python3.10/dist-packages (from celery<6,>=5.3.0->dvc-task<1,>=0.3.0->dvc) (2.8.2)\n",
            "Collecting tzdata>=2022.7 (from celery<6,>=5.3.0->dvc-task<1,>=0.3.0->dvc)\n",
            "  Downloading tzdata-2024.1-py2.py3-none-any.whl (345 kB)\n",
            "\u001b[2K     \u001b[90m━━━━━━━━━━━━━━━━━━━━━━━━━━━━━━━━━━━━━━━━\u001b[0m \u001b[32m345.4/345.4 kB\u001b[0m \u001b[31m35.2 MB/s\u001b[0m eta \u001b[36m0:00:00\u001b[0m\n",
            "\u001b[?25hCollecting vine<6.0,>=5.1.0 (from celery<6,>=5.3.0->dvc-task<1,>=0.3.0->dvc)\n",
            "  Downloading vine-5.1.0-py3-none-any.whl (9.6 kB)\n",
            "Collecting gitdb<5,>=4.0.1 (from gitpython>3->scmrepo<4,>=3->dvc)\n",
            "  Downloading gitdb-4.0.11-py3-none-any.whl (62 kB)\n",
            "\u001b[2K     \u001b[90m━━━━━━━━━━━━━━━━━━━━━━━━━━━━━━━━━━━━━━━━\u001b[0m \u001b[32m62.7/62.7 kB\u001b[0m \u001b[31m7.0 MB/s\u001b[0m eta \u001b[36m0:00:00\u001b[0m\n",
            "\u001b[?25hCollecting amqp<6.0.0,>=5.1.1 (from kombu<6,>=5.3.0->dvc-task<1,>=0.3.0->dvc)\n",
            "  Downloading amqp-5.2.0-py3-none-any.whl (50 kB)\n",
            "\u001b[2K     \u001b[90m━━━━━━━━━━━━━━━━━━━━━━━━━━━━━━━━━━━━━━━━\u001b[0m \u001b[32m50.9/50.9 kB\u001b[0m \u001b[31m5.5 MB/s\u001b[0m eta \u001b[36m0:00:00\u001b[0m\n",
            "\u001b[?25hRequirement already satisfied: mdurl~=0.1 in /usr/local/lib/python3.10/dist-packages (from markdown-it-py>=2.2.0->rich>=12->dvc) (0.1.2)\n",
            "Requirement already satisfied: PyYAML>=5.1.0 in /usr/local/lib/python3.10/dist-packages (from omegaconf<2.4,>=2.2->hydra-core>=1.1->dvc) (6.0.1)\n",
            "Requirement already satisfied: annotated-types>=0.4.0 in /usr/local/lib/python3.10/dist-packages (from pydantic!=2.0.0,<3,>=1.9.0->gto<2,>=1.6.0->dvc) (0.6.0)\n",
            "Requirement already satisfied: pydantic-core==2.16.2 in /usr/local/lib/python3.10/dist-packages (from pydantic!=2.0.0,<3,>=1.9.0->gto<2,>=1.6.0->dvc) (2.16.2)\n",
            "Requirement already satisfied: cffi>=1.16.0 in /usr/local/lib/python3.10/dist-packages (from pygit2>=1.14.0->scmrepo<4,>=3->dvc) (1.16.0)\n",
            "Collecting orjson (from sqltrie<1,>=0.11.0->dvc-data<3.14,>=3.13->dvc)\n",
            "  Downloading orjson-3.9.14-cp310-cp310-manylinux_2_17_x86_64.manylinux2014_x86_64.whl (138 kB)\n",
            "\u001b[2K     \u001b[90m━━━━━━━━━━━━━━━━━━━━━━━━━━━━━━━━━━━━━━━━\u001b[0m \u001b[32m139.0/139.0 kB\u001b[0m \u001b[31m14.3 MB/s\u001b[0m eta \u001b[36m0:00:00\u001b[0m\n",
            "\u001b[?25hINFO: pip is looking at multiple versions of fsspec[http] to determine which version is compatible with other requirements. This could take a while.\n",
            "Requirement already satisfied: aiosignal>=1.1.2 in /usr/local/lib/python3.10/dist-packages (from aiohttp->aiohttp-retry>=2.5.0->dvc-http>=2.29.0->dvc) (1.3.1)\n",
            "Requirement already satisfied: frozenlist>=1.1.1 in /usr/local/lib/python3.10/dist-packages (from aiohttp->aiohttp-retry>=2.5.0->dvc-http>=2.29.0->dvc) (1.4.1)\n",
            "Requirement already satisfied: multidict<7.0,>=4.5 in /usr/local/lib/python3.10/dist-packages (from aiohttp->aiohttp-retry>=2.5.0->dvc-http>=2.29.0->dvc) (6.0.5)\n",
            "Requirement already satisfied: yarl<2.0,>=1.0 in /usr/local/lib/python3.10/dist-packages (from aiohttp->aiohttp-retry>=2.5.0->dvc-http>=2.29.0->dvc) (1.9.4)\n",
            "Requirement already satisfied: async-timeout<5.0,>=4.0 in /usr/local/lib/python3.10/dist-packages (from aiohttp->aiohttp-retry>=2.5.0->dvc-http>=2.29.0->dvc) (4.0.3)\n",
            "Requirement already satisfied: pycparser in /usr/local/lib/python3.10/dist-packages (from cffi>=1.16.0->pygit2>=1.14.0->scmrepo<4,>=3->dvc) (2.21)\n",
            "Requirement already satisfied: prompt-toolkit>=3.0.36 in /usr/local/lib/python3.10/dist-packages (from click-repl>=0.2.0->celery<6,>=5.3.0->dvc-task<1,>=0.3.0->dvc) (3.0.43)\n",
            "Collecting smmap<6,>=3.0.1 (from gitdb<5,>=4.0.1->gitpython>3->scmrepo<4,>=3->dvc)\n",
            "  Downloading smmap-5.0.1-py3-none-any.whl (24 kB)\n",
            "Requirement already satisfied: wcwidth in /usr/local/lib/python3.10/dist-packages (from prompt-toolkit>=3.0.36->click-repl>=0.2.0->celery<6,>=5.3.0->dvc-task<1,>=0.3.0->dvc) (0.2.13)\n",
            "Building wheels for collected packages: antlr4-python3-runtime\n",
            "  Building wheel for antlr4-python3-runtime (setup.py) ... \u001b[?25l\u001b[?25hdone\n",
            "  Created wheel for antlr4-python3-runtime: filename=antlr4_python3_runtime-4.9.3-py3-none-any.whl size=144554 sha256=27d2d2465d13135260047f8fd80a17548fc54c2c03d6dab19851c0fae443e99a\n",
            "  Stored in directory: /root/.cache/pip/wheels/12/93/dd/1f6a127edc45659556564c5730f6d4e300888f4bca2d4c5a88\n",
            "Successfully built antlr4-python3-runtime\n",
            "Installing collected packages: pygtrie, funcy, dictdiffer, antlr4-python3-runtime, zc.lockfile, voluptuous, vine, tzdata, tomlkit, smmap, shtab, shortuuid, semver, ruamel.yaml.clib, platformdirs, pathspec, orjson, omegaconf, grandalf, fsspec, flufl.lock, flatten-dict, dvc-render, dulwich, dpath, diskcache, configobj, colorama, click-didyoumean, billiard, sqltrie, ruamel.yaml, pygit2, iterative-telemetry, hydra-core, gitdb, dvc-studio-client, dvc-objects, click-repl, amqp, kombu, gitpython, dvc-data, asyncssh, aiohttp-retry, scmrepo, dvc-http, celery, gto, dvc-task, dvc\n",
            "  Attempting uninstall: platformdirs\n",
            "    Found existing installation: platformdirs 4.2.0\n",
            "    Uninstalling platformdirs-4.2.0:\n",
            "      Successfully uninstalled platformdirs-4.2.0\n",
            "  Attempting uninstall: fsspec\n",
            "    Found existing installation: fsspec 2023.6.0\n",
            "    Uninstalling fsspec-2023.6.0:\n",
            "      Successfully uninstalled fsspec-2023.6.0\n",
            "\u001b[31mERROR: pip's dependency resolver does not currently take into account all the packages that are installed. This behaviour is the source of the following dependency conflicts.\n",
            "gcsfs 2023.6.0 requires fsspec==2023.6.0, but you have fsspec 2024.2.0 which is incompatible.\u001b[0m\u001b[31m\n",
            "\u001b[0mSuccessfully installed aiohttp-retry-2.8.3 amqp-5.2.0 antlr4-python3-runtime-4.9.3 asyncssh-2.14.2 billiard-4.2.0 celery-5.3.6 click-didyoumean-0.3.0 click-repl-0.3.0 colorama-0.4.6 configobj-5.0.8 dictdiffer-0.9.0 diskcache-5.6.3 dpath-2.1.6 dulwich-0.21.7 dvc-3.47.0 dvc-data-3.13.0 dvc-http-2.32.0 dvc-objects-5.0.0 dvc-render-1.0.1 dvc-studio-client-0.20.0 dvc-task-0.3.0 flatten-dict-0.4.2 flufl.lock-7.1.1 fsspec-2024.2.0 funcy-2.0 gitdb-4.0.11 gitpython-3.1.42 grandalf-0.8 gto-1.7.0 hydra-core-1.3.2 iterative-telemetry-0.0.8 kombu-5.3.5 omegaconf-2.3.0 orjson-3.9.14 pathspec-0.12.1 platformdirs-3.11.0 pygit2-1.14.1 pygtrie-2.5.0 ruamel.yaml-0.18.6 ruamel.yaml.clib-0.2.8 scmrepo-3.1.0 semver-3.0.2 shortuuid-1.0.11 shtab-1.7.0 smmap-5.0.1 sqltrie-0.11.0 tomlkit-0.12.3 tzdata-2024.1 vine-5.1.0 voluptuous-0.14.2 zc.lockfile-3.0.post1\n"
          ]
        },
        {
          "output_type": "display_data",
          "data": {
            "application/vnd.colab-display-data+json": {
              "pip_warning": {
                "packages": [
                  "pydevd_plugins"
                ]
              }
            }
          },
          "metadata": {}
        }
      ]
    },
    {
      "cell_type": "code",
      "source": [
        "import os\n",
        "import pandas as pd\n",
        "from google.colab import drive\n",
        "drive.mount('/content/drive')\n",
        "basepath = '/content/'\n",
        "path ='/content/drive/MyDrive/emails.csv'\n",
        "\n",
        "corpus = pd.read_csv(path)"
      ],
      "metadata": {
        "id": "_NE1Xc1ZbJwP",
        "colab": {
          "base_uri": "https://localhost:8080/"
        },
        "outputId": "9a312690-f1da-42d7-c483-a646f4eaa525"
      },
      "execution_count": 2,
      "outputs": [
        {
          "output_type": "stream",
          "name": "stdout",
          "text": [
            "Mounted at /content/drive\n"
          ]
        }
      ]
    },
    {
      "cell_type": "code",
      "source": [
        "# prompt: initiate dvc\n",
        "!git init\n",
        "!dvc init"
      ],
      "metadata": {
        "colab": {
          "base_uri": "https://localhost:8080/"
        },
        "id": "YOE2FCd3kPcM",
        "outputId": "180bc75c-81f1-4336-8a01-0a423d090e52"
      },
      "execution_count": 3,
      "outputs": [
        {
          "output_type": "stream",
          "name": "stdout",
          "text": [
            "\u001b[33mhint: Using 'master' as the name for the initial branch. This default branch name\u001b[m\n",
            "\u001b[33mhint: is subject to change. To configure the initial branch name to use in all\u001b[m\n",
            "\u001b[33mhint: of your new repositories, which will suppress this warning, call:\u001b[m\n",
            "\u001b[33mhint: \u001b[m\n",
            "\u001b[33mhint: \tgit config --global init.defaultBranch <name>\u001b[m\n",
            "\u001b[33mhint: \u001b[m\n",
            "\u001b[33mhint: Names commonly chosen instead of 'master' are 'main', 'trunk' and\u001b[m\n",
            "\u001b[33mhint: 'development'. The just-created branch can be renamed via this command:\u001b[m\n",
            "\u001b[33mhint: \u001b[m\n",
            "\u001b[33mhint: \tgit branch -m <name>\u001b[m\n",
            "Initialized empty Git repository in /content/.git/\n",
            "Initialized DVC repository.\n",
            "\n",
            "You can now commit the changes to git.\n",
            "\n",
            "\u001b[31m+---------------------------------------------------------------------+\n",
            "\u001b[0m\u001b[31m|\u001b[0m                                                                     \u001b[31m|\u001b[0m\n",
            "\u001b[31m|\u001b[0m        DVC has enabled anonymous aggregate usage analytics.         \u001b[31m|\u001b[0m\n",
            "\u001b[31m|\u001b[0m     Read the analytics documentation (and how to opt-out) here:     \u001b[31m|\u001b[0m\n",
            "\u001b[31m|\u001b[0m             <\u001b[36mhttps://dvc.org/doc/user-guide/analytics\u001b[39m>              \u001b[31m|\u001b[0m\n",
            "\u001b[31m|\u001b[0m                                                                     \u001b[31m|\u001b[0m\n",
            "\u001b[31m+---------------------------------------------------------------------+\n",
            "\u001b[0m\n",
            "\u001b[33mWhat's next?\u001b[39m\n",
            "\u001b[33m------------\u001b[39m\n",
            "- Check out the documentation: <\u001b[36mhttps://dvc.org/doc\u001b[39m>\n",
            "- Get help and share ideas: <\u001b[36mhttps://dvc.org/chat\u001b[39m>\n",
            "- Star us on GitHub: <\u001b[36mhttps://github.com/iterative/dvc\u001b[39m>\n",
            "\u001b[0m"
          ]
        }
      ]
    },
    {
      "cell_type": "code",
      "source": [
        "!git config user.name hardikkalra45\n",
        "!git config user.email hardikkalra99919@gmail.com"
      ],
      "metadata": {
        "id": "JeYNNTOCs6qX"
      },
      "execution_count": 4,
      "outputs": []
    },
    {
      "cell_type": "code",
      "source": [
        "!mkdir '/content/drive/MyDrive/dvc\n",
        "!dvc remote add -d myremote dvc"
      ],
      "metadata": {
        "colab": {
          "base_uri": "https://localhost:8080/"
        },
        "id": "VFYvX1j2RyHe",
        "outputId": "7c768174-0d45-4e8c-b060-f2ca57c0f4e9"
      },
      "execution_count": 5,
      "outputs": [
        {
          "output_type": "stream",
          "name": "stdout",
          "text": [
            "Setting 'myremote' as a default remote.\n",
            "\u001b[0m"
          ]
        }
      ]
    },
    {
      "cell_type": "code",
      "source": [
        "from sklearn.model_selection import train_test_split\n",
        "\n",
        "text = corpus['text']\n",
        "labels = corpus[\"spam\"]\n",
        "\n",
        "\n",
        "X_train, X_test, Y_train, Y_test = train_test_split(text, labels, test_size=0.2, random_state=42)\n",
        "\n",
        "X_train, X_val, Y_train, Y_val = train_test_split(X_train, Y_train, test_size=0.2, random_state=42)"
      ],
      "metadata": {
        "id": "NOE8RaEWhOvV"
      },
      "execution_count": 6,
      "outputs": []
    },
    {
      "cell_type": "code",
      "source": [
        "df_train = pd.DataFrame()\n",
        "df_train[\"text\"] = X_train\n",
        "df_train[\"spam\"] = Y_train\n",
        "print(\"TRAIN DATA\")\n",
        "print(df_train, \"\\n\\n\\n\")\n",
        "\n",
        "df_val = pd.DataFrame()\n",
        "df_val[\"text\"] = X_val\n",
        "df_val[\"spam\"] = Y_val\n",
        "print(\"VALIDATION DATA\")\n",
        "print(df_val, \"\\n\\n\\n\")\n",
        "\n",
        "df_test = pd.DataFrame()\n",
        "df_test[\"text\"] = X_test\n",
        "df_test[\"spam\"] = Y_test\n",
        "print(\"TEST DATA\")\n",
        "print(df_test)\n",
        "\n",
        "df_test.to_csv(f\"{basepath}/train.csv\", index=False)\n",
        "df_test.to_csv(f\"{basepath}/validation.csv\", index=False)\n",
        "df_test.to_csv(f\"{basepath}/test.csv\", index=False)"
      ],
      "metadata": {
        "colab": {
          "base_uri": "https://localhost:8080/"
        },
        "id": "d319zZySh8Ay",
        "outputId": "3a557d9e-6933-4adc-904c-37116b1e1fa2"
      },
      "execution_count": 7,
      "outputs": [
        {
          "output_type": "stream",
          "name": "stdout",
          "text": [
            "TRAIN DATA\n",
            "                                                   text  spam\n",
            "2696  Subject: professor bitran ' s visit  colleague...     0\n",
            "789   Subject: cigarettes wholesale ! hywwzzlzd  $ 1...     1\n",
            "233   Subject: in the heart of your business !  corp...     1\n",
            "3064  Subject: re : global risk management operation...     0\n",
            "1086  Subject: judicial judgements child support  ve...     1\n",
            "...                                                 ...   ...\n",
            "4982  Subject: invitation - whartonetevent - apr 20 ...     0\n",
            "3663  Subject: re : part - time work  zimin ,  can y...     0\n",
            "2475  Subject: telephone interview with the research...     0\n",
            "4554  Subject: cal berkeley general presentation con...     0\n",
            "4341  Subject: re : prc meeting date  anne ,  thanks...     0\n",
            "\n",
            "[3665 rows x 2 columns] \n",
            "\n",
            "\n",
            "\n",
            "VALIDATION DATA\n",
            "                                                   text  spam\n",
            "1836  Subject: i wanted to give you some feedback . ...     0\n",
            "5541  Subject: re : clustering for gas and power  fr...     0\n",
            "1816  Subject: kudos  congratulations on your promot...     0\n",
            "1071  Subject: vov . gget luxurious rolexes at the g...     1\n",
            "3503  Subject: re : london , new york , houston , fi...     0\n",
            "...                                                 ...   ...\n",
            "4407  Subject: re : invitation - whartonetevent - ap...     0\n",
            "5292  Subject: re : var for enroncredit . com  bryan...     0\n",
            "1170  Subject: first - level designers available for...     1\n",
            "5672  Subject: skunkworks meeting - bi - weekly  shi...     0\n",
            "3746  Subject: re : phone interview  there will be a...     0\n",
            "\n",
            "[917 rows x 2 columns] \n",
            "\n",
            "\n",
            "\n",
            "TEST DATA\n",
            "                                                   text  spam\n",
            "2912  Subject: re : powerisk 2001 - your invitation ...     0\n",
            "5058  Subject: re : associate / analyst super saturd...     0\n",
            "830   Subject: new love tabs shop .  visit our llcen...     1\n",
            "4077  Subject: thank you  dear dr . kaminsky :  i wa...     0\n",
            "1341  Subject: online tv deals 312  internet  exclus...     1\n",
            "...                                                 ...   ...\n",
            "5223  Subject: re : request for suggestions : vince ...     0\n",
            "1965  Subject: re : avistar systems  - - - - - - - -...     0\n",
            "2919  Subject: fw : wharton resume submission  - - -...     0\n",
            "1498  Subject: merit and equity increases  norma ,  ...     0\n",
            "1364  Subject: would you like a $ 250 gas card ?  do...     1\n",
            "\n",
            "[1146 rows x 2 columns]\n"
          ]
        }
      ]
    },
    {
      "cell_type": "code",
      "source": [
        "!dvc add test.csv\n",
        "!dvc add train.csv\n",
        "!dvc add validation.csv"
      ],
      "metadata": {
        "colab": {
          "base_uri": "https://localhost:8080/"
        },
        "id": "fQKKC5xplifU",
        "outputId": "b52b32db-819a-4320-8170-2c20c5123ca6"
      },
      "execution_count": 8,
      "outputs": [
        {
          "output_type": "stream",
          "name": "stdout",
          "text": [
            "\u001b[?25l\u001b[32m⠋\u001b[0m Checking graph\n",
            "Adding...:   0% 0/1 [00:00<?, ?file/s{'info': ''}]\n",
            "!\u001b[A\n",
            "          |0.00 [00:00,     ?file/s]\u001b[A\n",
            "                                    \u001b[A\n",
            "!\u001b[A\n",
            "  0% |          |0/? [00:00<?,    ?files/s]\u001b[A\n",
            "                                           \u001b[A\n",
            "Adding test.csv to cache:   0% 0/1 [00:00<?, ?file/s]\u001b[A\n",
            "Adding test.csv to cache:   0% 0/1 [00:00<?, ?file/s{'info': ''}]\u001b[A\n",
            "                                                                 \u001b[A\n",
            "Checking out /content/test.csv:   0% 0/1 [00:00<?, ?files/s]\u001b[A\n",
            "Checking out /content/test.csv:   0% 0/1 [00:00<?, ?files/s{'info': ''}]\u001b[A\n",
            "Adding...: 100% 1/1 [00:00<00:00, 12.95file/s{'info': ''}]\n",
            "\n",
            "To track the changes with git, run:\n",
            "\n",
            "\tgit add test.csv.dvc .gitignore\n",
            "\n",
            "To enable auto staging, run:\n",
            "\n",
            "\tdvc config core.autostage true\n",
            "\u001b[?25l\u001b[32m⠋\u001b[0m Checking graph\n",
            "Adding...:   0% 0/1 [00:00<?, ?file/s{'info': ''}]\n",
            "!\u001b[A\n",
            "          |0.00 [00:00,     ?file/s]\u001b[A\n",
            "                                    \u001b[A\n",
            "!\u001b[A\n",
            "  0% |          |0/? [00:00<?,    ?files/s]\u001b[A\n",
            "                                           \u001b[A\n",
            "Adding train.csv to cache:   0% 0/1 [00:00<?, ?file/s]\u001b[A\n",
            "Adding train.csv to cache:   0% 0/1 [00:00<?, ?file/s{'info': ''}]\u001b[A\n",
            "                                                                  \u001b[A\n",
            "Checking out /content/train.csv:   0% 0/1 [00:00<?, ?files/s]\u001b[A\n",
            "Checking out /content/train.csv:   0% 0/1 [00:00<?, ?files/s{'info': ''}]\u001b[A\n",
            "Adding...: 100% 1/1 [00:00<00:00,  9.92file/s{'info': ''}]\n",
            "\n",
            "To track the changes with git, run:\n",
            "\n",
            "\tgit add train.csv.dvc .gitignore\n",
            "\n",
            "To enable auto staging, run:\n",
            "\n",
            "\tdvc config core.autostage true\n",
            "\u001b[?25l\u001b[32m⠋\u001b[0m Checking graph\n",
            "Adding...:   0% 0/1 [00:00<?, ?file/s{'info': ''}]\n",
            "!\u001b[A\n",
            "          |0.00 [00:00,     ?file/s]\u001b[A\n",
            "                                    \u001b[A\n",
            "!\u001b[A\n",
            "  0% |          |0/? [00:00<?,    ?files/s]\u001b[A\n",
            "                                           \u001b[A\n",
            "Adding validation.csv to cache:   0% 0/1 [00:00<?, ?file/s]\u001b[A\n",
            "Adding validation.csv to cache:   0% 0/1 [00:00<?, ?file/s{'info': ''}]\u001b[A\n",
            "                                                                       \u001b[A\n",
            "Checking out /content/validation.csv:   0% 0/1 [00:00<?, ?files/s]\u001b[A\n",
            "Checking out /content/validation.csv:   0% 0/1 [00:00<?, ?files/s{'info': ''}]\u001b[A\n",
            "Adding...: 100% 1/1 [00:00<00:00, 15.93file/s{'info': ''}]\n",
            "\n",
            "To track the changes with git, run:\n",
            "\n",
            "\tgit add validation.csv.dvc .gitignore\n",
            "\n",
            "To enable auto staging, run:\n",
            "\n",
            "\tdvc config core.autostage true\n",
            "\u001b[0m"
          ]
        }
      ]
    },
    {
      "cell_type": "code",
      "source": [
        "!dvc push"
      ],
      "metadata": {
        "colab": {
          "base_uri": "https://localhost:8080/"
        },
        "id": "K6xCd1MQUJEZ",
        "outputId": "769777a3-8753-4a3e-ec17-4a02d3c1f79e"
      },
      "execution_count": 9,
      "outputs": [
        {
          "output_type": "stream",
          "name": "stdout",
          "text": [
            "Collecting          |3.00 [00:00,  129entry/s]\n",
            "Pushing\n",
            "!\u001b[A\n",
            "  0% |          |0/? [00:00<?,    ?files/s]\u001b[A\n",
            "                                           \u001b[A\n",
            "!\u001b[A\n",
            "  0% |          |0/? [00:00<?,    ?files/s]\u001b[A\n",
            "                                           \u001b[A\n",
            "Pushing to local:   0% 0/3 [00:00<?, ?file/s]\u001b[A\n",
            "Pushing to local:   0% 0/3 [00:00<?, ?file/s{'info': ''}]\u001b[A\n",
            "Pushing\n",
            "3 files pushed\n",
            "\u001b[0m"
          ]
        }
      ]
    },
    {
      "cell_type": "code",
      "source": [
        "!git add test.csv.dvc .gitignore\n",
        "!git commit -m \"test file\"\n",
        "\n",
        "!git add train.csv.dvc .gitignore\n",
        "!git commit -m \"train file\"\n",
        "\n",
        "!git add validation.csv.dvc .gitignore\n",
        "!git commit -m \"validation file\"\n"
      ],
      "metadata": {
        "colab": {
          "base_uri": "https://localhost:8080/"
        },
        "id": "EWluns8pmr4R",
        "outputId": "e9ad3ce8-8c01-4f94-9d0c-edc7329d99fc"
      },
      "execution_count": 10,
      "outputs": [
        {
          "output_type": "stream",
          "name": "stdout",
          "text": [
            "[master (root-commit) 542861e] test file\n",
            " 5 files changed, 14 insertions(+)\n",
            " create mode 100644 .dvc/.gitignore\n",
            " create mode 100644 .dvc/config\n",
            " create mode 100644 .dvcignore\n",
            " create mode 100644 .gitignore\n",
            " create mode 100644 test.csv.dvc\n",
            "[master ee4cb17] train file\n",
            " 1 file changed, 5 insertions(+)\n",
            " create mode 100644 train.csv.dvc\n",
            "[master de78a59] validation file\n",
            " 1 file changed, 5 insertions(+)\n",
            " create mode 100644 validation.csv.dvc\n"
          ]
        }
      ]
    },
    {
      "cell_type": "code",
      "source": [
        "!git log"
      ],
      "metadata": {
        "colab": {
          "base_uri": "https://localhost:8080/"
        },
        "id": "SX-Za2eFtHkX",
        "outputId": "4aa6fead-5ef5-4e0a-b6db-d326c222b5ed"
      },
      "execution_count": 11,
      "outputs": [
        {
          "output_type": "stream",
          "name": "stdout",
          "text": [
            "\u001b[33mcommit de78a5988da41251d75d3d40e1ee1547a7bfaf0b\u001b[m\u001b[33m (\u001b[m\u001b[1;36mHEAD -> \u001b[m\u001b[1;32mmaster\u001b[m\u001b[33m)\u001b[m\n",
            "Author: hardikkalra45 <hardikkalra99919@gmail.com>\n",
            "Date:   Wed Feb 21 09:57:29 2024 +0000\n",
            "\n",
            "    validation file\n",
            "\n",
            "\u001b[33mcommit ee4cb175a9739db57995f7a5c808cf39720dde97\u001b[m\n",
            "Author: hardikkalra45 <hardikkalra99919@gmail.com>\n",
            "Date:   Wed Feb 21 09:57:29 2024 +0000\n",
            "\n",
            "    train file\n",
            "\n",
            "\u001b[33mcommit 542861ea67d67cab642351cc44a4e48d45a2616e\u001b[m\n",
            "Author: hardikkalra45 <hardikkalra99919@gmail.com>\n",
            "Date:   Wed Feb 21 09:57:29 2024 +0000\n",
            "\n",
            "    test file\n"
          ]
        }
      ]
    },
    {
      "cell_type": "code",
      "source": [
        "\n",
        "X_train_1, X_test_1, Y_train_1, Y_test_1 = train_test_split(text, labels, test_size=0.2, random_state=24)\n",
        "\n",
        "X_train_1, X_val_1, Y_train_1, Y_val_1 = train_test_split(X_train_1, Y_train_1, test_size=0.2, random_state=24)"
      ],
      "metadata": {
        "id": "VzxuVAqwjZNK"
      },
      "execution_count": 12,
      "outputs": []
    },
    {
      "cell_type": "code",
      "source": [
        "df_train = pd.DataFrame()\n",
        "df_train[\"text\"] = X_train_1\n",
        "df_train[\"spam\"] = y_train_1\n",
        "print(\"TRAIN DATA\")\n",
        "print(df_train, \"\\n\\n\\n\")\n",
        "\n",
        "df_val = pd.DataFrame()\n",
        "df_val[\"text\"] = X_val_1\n",
        "df_val[\"spam\"] = y_val_1\n",
        "print(\"VALIDATION DATA\")\n",
        "print(df_val, \"\\n\\n\\n\")\n",
        "\n",
        "df_test = pd.DataFrame()\n",
        "df_test[\"text\"] = X_test_1\n",
        "df_test[\"spam\"] = y_test_1\n",
        "print(\"TEST DATA\")\n",
        "print(df_test)\n",
        "\n",
        "df_train.to_csv(f\"{basepath}/train.csv\", index=False)\n",
        "df_val.to_csv(f\"{basepath}/validation.csv\", index=False)\n",
        "df_test.to_csv(f\"{basepath}/test.csv\", index=False)"
      ],
      "metadata": {
        "id": "3FjC7P4ojuqT",
        "colab": {
          "base_uri": "https://localhost:8080/"
        },
        "outputId": "868d600c-ab39-47df-97ff-6225d33fa4b7"
      },
      "execution_count": 13,
      "outputs": [
        {
          "output_type": "stream",
          "name": "stdout",
          "text": [
            "TRAIN DATA\n",
            "                                                   text  spam\n",
            "2850  Subject: next eprm article  hi vince  the next...     0\n",
            "1112  Subject: delivery status notification ( failur...     1\n",
            "693   Subject: neugierig ?  - - - - 870879228701464 ...     1\n",
            "3751  Subject: class request : xl 97 range - 567 exc...     0\n",
            "1653  Subject: request submitted : access request fo...     0\n",
            "...                                                 ...   ...\n",
            "3066  Subject: re : lng may 19 decision  vince - tha...     0\n",
            "4742  Subject: thanks for your help ! !  vince ,  my...     0\n",
            "1303  Subject: clear benefits of creative design  lt...     1\n",
            "5355  Subject: re : statistica & lunch  rick ,  we a...     0\n",
            "3878  Subject: re : enron tiger kick off  donna ,  j...     0\n",
            "\n",
            "[2932 rows x 2 columns] \n",
            "\n",
            "\n",
            "\n",
            "VALIDATION DATA\n",
            "                                                   text  spam\n",
            "1458  Subject: uk rpi model  hi zimin !  please find...     0\n",
            "4     Subject: do not have money , get software cds ...     1\n",
            "4300  Subject: re :  darrell ,  thanks a lot .  a qu...     0\n",
            "3059  Subject: thank you for the opportunity  hello ...     0\n",
            "2041  Subject: maureen ' s expenses  it appears that...     0\n",
            "...                                                 ...   ...\n",
            "1015  Subject: failure notice  hi . this is the qmai...     1\n",
            "3199  Subject: vince and stinson ,  i got this resum...     0\n",
            "5464  Subject: new pc  hi lyn :  alex huang has requ...     0\n",
            "1691  Subject: phone numbers  computer support : 713...     0\n",
            "5717  Subject: fwd : update  return - path :  receiv...     0\n",
            "\n",
            "[733 rows x 2 columns] \n",
            "\n",
            "\n",
            "\n",
            "TEST DATA\n",
            "                                                   text  spam\n",
            "412   Subject: buyer beware - penis patches !  penis...     1\n",
            "833   Subject: make some extra money fast read how h...     1\n",
            "3404  Subject: wharton risk center advisory committe...     0\n",
            "4947  Subject: re : dinner speaker - may 23  dear mr...     0\n",
            "2447  Subject: reimbursement of individually billed ...     0\n",
            "...                                                 ...   ...\n",
            "2544  Subject: forecasting project  per our monday m...     0\n",
            "4676  Subject: telephone interview with the research...     0\n",
            "5497  Subject: hiring aram at a vp level  rick ,  i ...     0\n",
            "3796  Subject: magic 15 , 000 level on nikkei  - - -...     0\n",
            "1156  Subject: hi  ho aussie w to save on your medlc...     1\n",
            "\n",
            "[1146 rows x 2 columns]\n"
          ]
        }
      ]
    },
    {
      "cell_type": "code",
      "source": [
        "!dvc add test.csv\n",
        "!dvc add train.csv\n",
        "!dvc add validation.csv"
      ],
      "metadata": {
        "colab": {
          "base_uri": "https://localhost:8080/"
        },
        "id": "tGgwJwqimcS6",
        "outputId": "be121088-b96a-4768-bca4-c5549c82eae7"
      },
      "execution_count": 14,
      "outputs": [
        {
          "output_type": "stream",
          "name": "stdout",
          "text": [
            "\u001b[?25l\u001b[32m⠋\u001b[0m Checking graph\n",
            "Adding...:   0% 0/1 [00:00<?, ?file/s{'info': ''}]\n",
            "!\u001b[A\n",
            "          |0.00 [00:00,     ?file/s]\u001b[A\n",
            "                                    \u001b[A\n",
            "!\u001b[A\n",
            "  0% |          |0/? [00:00<?,    ?files/s]\u001b[A\n",
            "                                           \u001b[A\n",
            "Adding test.csv to cache:   0% 0/1 [00:00<?, ?file/s]\u001b[A\n",
            "Adding test.csv to cache:   0% 0/1 [00:00<?, ?file/s{'info': ''}]\u001b[A\n",
            "                                                                 \u001b[A\n",
            "Checking out /content/test.csv:   0% 0/1 [00:00<?, ?files/s]\u001b[A\n",
            "Checking out /content/test.csv:   0% 0/1 [00:00<?, ?files/s{'info': ''}]\u001b[A\n",
            "Adding...: 100% 1/1 [00:00<00:00, 16.82file/s{'info': ''}]\n",
            "\n",
            "To track the changes with git, run:\n",
            "\n",
            "\tgit add test.csv.dvc\n",
            "\n",
            "To enable auto staging, run:\n",
            "\n",
            "\tdvc config core.autostage true\n",
            "\u001b[?25l\u001b[32m⠋\u001b[0m Checking graph\n",
            "Adding...:   0% 0/1 [00:00<?, ?file/s{'info': ''}]\n",
            "!\u001b[A\n",
            "          |0.00 [00:00,     ?file/s]\u001b[A\n",
            "                                    \u001b[A\n",
            "!\u001b[A\n",
            "  0% |          |0/? [00:00<?,    ?files/s]\u001b[A\n",
            "                                           \u001b[A\n",
            "Adding train.csv to cache:   0% 0/1 [00:00<?, ?file/s]\u001b[A\n",
            "Adding train.csv to cache:   0% 0/1 [00:00<?, ?file/s{'info': ''}]\u001b[A\n",
            "                                                                  \u001b[A\n",
            "Checking out /content/train.csv:   0% 0/1 [00:00<?, ?files/s]\u001b[A\n",
            "Checking out /content/train.csv:   0% 0/1 [00:00<?, ?files/s{'info': ''}]\u001b[A\n",
            "Adding...: 100% 1/1 [00:00<00:00, 14.76file/s{'info': ''}]\n",
            "\n",
            "To track the changes with git, run:\n",
            "\n",
            "\tgit add train.csv.dvc\n",
            "\n",
            "To enable auto staging, run:\n",
            "\n",
            "\tdvc config core.autostage true\n",
            "\u001b[?25l\u001b[32m⠋\u001b[0m Checking graph\n",
            "Adding...:   0% 0/1 [00:00<?, ?file/s{'info': ''}]\n",
            "!\u001b[A\n",
            "          |0.00 [00:00,     ?file/s]\u001b[A\n",
            "                                    \u001b[A\n",
            "!\u001b[A\n",
            "  0% |          |0/? [00:00<?,    ?files/s]\u001b[A\n",
            "                                           \u001b[A\n",
            "Adding validation.csv to cache:   0% 0/1 [00:00<?, ?file/s]\u001b[A\n",
            "Adding validation.csv to cache:   0% 0/1 [00:00<?, ?file/s{'info': ''}]\u001b[A\n",
            "                                                                       \u001b[A\n",
            "Checking out /content/validation.csv:   0% 0/1 [00:00<?, ?files/s]\u001b[A\n",
            "Checking out /content/validation.csv:   0% 0/1 [00:00<?, ?files/s{'info': ''}]\u001b[A\n",
            "Adding...: 100% 1/1 [00:00<00:00, 17.29file/s{'info': ''}]\n",
            "\n",
            "To track the changes with git, run:\n",
            "\n",
            "\tgit add validation.csv.dvc\n",
            "\n",
            "To enable auto staging, run:\n",
            "\n",
            "\tdvc config core.autostage true\n",
            "\u001b[0m"
          ]
        }
      ]
    },
    {
      "cell_type": "code",
      "source": [
        "!dvc push"
      ],
      "metadata": {
        "colab": {
          "base_uri": "https://localhost:8080/"
        },
        "id": "JxRWq4OfUN1e",
        "outputId": "e2803ba5-1054-40ef-8f8c-7ef343b7e9e4"
      },
      "execution_count": 15,
      "outputs": [
        {
          "output_type": "stream",
          "name": "stdout",
          "text": [
            "Collecting          |3.00 [00:00,  121entry/s]\n",
            "Pushing\n",
            "!\u001b[A\n",
            "  0% |          |0/? [00:00<?,    ?files/s]\u001b[A\n",
            "                                           \u001b[A\n",
            "!\u001b[A\n",
            "  0% |          |0/? [00:00<?,    ?files/s]\u001b[A\n",
            "                                           \u001b[A\n",
            "Pushing to local:   0% 0/3 [00:00<?, ?file/s]\u001b[A\n",
            "Pushing to local:   0% 0/3 [00:00<?, ?file/s{'info': ''}]\u001b[A\n",
            "Pushing\n",
            "3 files pushed\n",
            "\u001b[0m"
          ]
        }
      ]
    },
    {
      "cell_type": "code",
      "source": [
        "!git add test.csv.dvc .gitignore\n",
        "!git commit -m \"updated test file\"\n",
        "\n",
        "!git add train.csv.dvc .gitignore\n",
        "!git commit -m \"updated train file\"\n",
        "\n",
        "!git add validation.csv.dvc .gitignore\n",
        "!git commit -m \"updated validation file\""
      ],
      "metadata": {
        "colab": {
          "base_uri": "https://localhost:8080/"
        },
        "id": "sPgJkkHhpUR1",
        "outputId": "e84b8d4e-deff-4b9e-980f-e3e05b33b63a"
      },
      "execution_count": 16,
      "outputs": [
        {
          "output_type": "stream",
          "name": "stdout",
          "text": [
            "[master d223672] updated test file\n",
            " 1 file changed, 2 insertions(+), 2 deletions(-)\n",
            "[master 3bda8cc] updated train file\n",
            " 1 file changed, 2 insertions(+), 2 deletions(-)\n",
            "[master 0af182c] updated validation file\n",
            " 1 file changed, 2 insertions(+), 2 deletions(-)\n"
          ]
        }
      ]
    },
    {
      "cell_type": "code",
      "source": [
        "!git log"
      ],
      "metadata": {
        "colab": {
          "base_uri": "https://localhost:8080/"
        },
        "id": "rz_mwUCNwQRZ",
        "outputId": "2da173d3-3c77-4be0-f256-40657c972329"
      },
      "execution_count": 17,
      "outputs": [
        {
          "output_type": "stream",
          "name": "stdout",
          "text": [
            "\u001b[33mcommit 0af182c363d9852607498ed43ba3119b36931bf7\u001b[m\u001b[33m (\u001b[m\u001b[1;36mHEAD -> \u001b[m\u001b[1;32mmaster\u001b[m\u001b[33m)\u001b[m\n",
            "Author: hardikkalra45 <hardikkalra99919@gmail.com>\n",
            "Date:   Wed Feb 21 09:59:07 2024 +0000\n",
            "\n",
            "    updated validation file\n",
            "\n",
            "\u001b[33mcommit 3bda8cc4d48476409382fbfb28d64e5c4874a578\u001b[m\n",
            "Author: hardikkalra45 <hardikkalra99919@gmail.com>\n",
            "Date:   Wed Feb 21 09:59:06 2024 +0000\n",
            "\n",
            "    updated train file\n",
            "\n",
            "\u001b[33mcommit d223672fb875990287a2ed959107cc3430e97d63\u001b[m\n",
            "Author: hardikkalra45 <hardikkalra99919@gmail.com>\n",
            "Date:   Wed Feb 21 09:59:06 2024 +0000\n",
            "\n",
            "    updated test file\n",
            "\n",
            "\u001b[33mcommit de78a5988da41251d75d3d40e1ee1547a7bfaf0b\u001b[m\n",
            "Author: hardikkalra45 <hardikkalra99919@gmail.com>\n",
            "Date:   Wed Feb 21 09:57:29 2024 +0000\n",
            "\n",
            "    validation file\n",
            "\n",
            "\u001b[33mcommit ee4cb175a9739db57995f7a5c808cf39720dde97\u001b[m\n",
            "Author: hardikkalra45 <hardikkalra99919@gmail.com>\n",
            "Date:   Wed Feb 21 09:57:29 2024 +0000\n",
            "\n",
            "    train file\n",
            "\n",
            "\u001b[33mcommit 542861ea67d67cab642351cc44a4e48d45a2616e\u001b[m\n",
            "Author: hardikkalra45 <hardikkalra99919@gmail.com>\n",
            "Date:   Wed Feb 21 09:57:29 2024 +0000\n",
            "\n",
            "    test file\n"
          ]
        }
      ]
    },
    {
      "cell_type": "markdown",
      "source": [
        "Let us work with the first version of the files"
      ],
      "metadata": {
        "id": "z-C5F2uDup_8"
      }
    },
    {
      "cell_type": "code",
      "source": [
        "!git checkout \"d223672fb875990287a2ed959107cc3430e97d63\" test.csv.dvc\n",
        "\n",
        "!git checkout \"3bda8cc4d48476409382fbfb28d64e5c4874a578\" train.csv.dvc\n",
        "\n",
        "!git checkout \"0af182c363d9852607498ed43ba3119b36931bf7\" validation.csv.dvc\n",
        "!dvc checkout"
      ],
      "metadata": {
        "colab": {
          "base_uri": "https://localhost:8080/"
        },
        "id": "BmKH_wgSupe3",
        "outputId": "df843236-b963-4505-cdeb-566530b9c727"
      },
      "execution_count": 18,
      "outputs": [
        {
          "output_type": "stream",
          "name": "stdout",
          "text": [
            "Updated 0 paths from 6d0ff6a\n",
            "Updated 0 paths from a6359db\n",
            "Updated 0 paths from 9030e2e\n",
            "Building workspace index          |8.00 [00:00,  330entry/s]\n",
            "Comparing indexes          |9.00 [00:00, 1.63kentry/s]\n",
            "Applying changes          |0.00 [00:00,     ?file/s]\n"
            "\u001b[0m"
          ]
        }
      ]
    },
    {
      "cell_type": "code",
      "source": [
        "test_v1 = pd.read_csv(\"test.csv\")\n",
        "train_v1 = pd.read_csv(\"train.csv\")\n",
        "validation_v1 = pd.read_csv(\"validation.csv\")"
      ],
      "metadata": {
        "id": "dmZdd8Qovy7n"
      },
      "execution_count": 19,
      "outputs": []
    },
    {
      "cell_type": "code",
      "source": [
        "distribution_test = test_v1['spam'].value_counts()\n",
        "distribution_train = train_v1['spam'].value_counts()\n",
        "distribution_valid = validation_v1['spam'].value_counts()\n",
        "print(\"Test Data\")\n",
        "print(distribution_test)\n",
        "print(\"\\n Train Data\")\n",
        "print(distribution_train)\n",
        "print(\"\\n Validation Data\")\n",
        "print(distribution_valid)"
      ],
      "metadata": {
        "colab": {
          "base_uri": "https://localhost:8080/"
        },
        "id": "3zSk7lzV2AlO",
        "outputId": "4ed5d67e-7f85-4252-c53c-19208916dfe5"
      },
      "execution_count": 20,
      "outputs": [
        {
          "output_type": "stream",
          "name": "stdout",
          "text": [
            "Test Data\n",
            "0    874\n",
            "1    272\n",
            "Name: spam, dtype: int64\n",
            "\n",
            " Train Data\n",
            "0    2215\n",
            "1     717\n",
            "Name: spam, dtype: int64\n",
            "\n",
            " Validation Data\n",
            "0    565\n",
            "1    168\n",
            "Name: spam, dtype: int64\n"
          ]
        }
      ]
    },
    {
      "cell_type": "markdown",
      "source": [
        "Now let us work with second version of the files"
      ],
      "metadata": {
        "id": "ycHgfHnl0VHD"
      }
    },
    {
      "cell_type": "code",
      "source": [
        "!git checkout \"de78a5988da41251d75d3d40e1ee1547a7bfaf0b\" validation.csv.dvc\n",
        "!git checkout \"ee4cb175a9739db57995f7a5c808cf39720dde97\" train.csv.dvc\n",
        "!git checkout \"542861ea67d67cab642351cc44a4e48d45a2616e\" test.csv.dvc\n",
        "!dvc checkout"
      ],
      "metadata": {
        "colab": {
          "base_uri": "https://localhost:8080/"
        },
        "id": "5l7WVWIJ0jTP",
        "outputId": "99c8e693-8cd3-4ee7-d3ec-1531dab2f720"
      },
      "execution_count": null,
      "outputs": [
        {
          "output_type": "stream",
          "name": "stdout",
          "text": [
           "Updated 1 path from 89f0a43\n",
           "Updated 1 path from 144e6ab\n",
           "Updated 1 path from c081c3b\n",
           "Building workspace index          |8.00 [00:00, 68.2entry/s]\n",
           "Comparing indexes          |9.00 [00:00,  475entry/s]\n",
           "Applying changes          |3.00 [00:00,  49.6file/s]\n",
           "M       test.csv\n",
           "M       validation.csv\n",
           "M       train.csv\n"
            "\u001b[0m"
          ]
        }
      ]
    },
    {
      "cell_type": "code",
      "source": [
        "test_v2 = pd.read_csv(\"test.csv\")\n",
        "train_v2 = pd.read_csv(\"train.csv\")\n",
        "validation_v2 = pd.read_csv(\"validation.csv\")"
      ],
      "metadata": {
        "id": "nYcqAsp018_f"
      },
      "execution_count": null,
      "outputs": []
    },
    {
      "cell_type": "code",
      "source": [
        "distribution_test_2 = test_v2['spam'].value_counts()\n",
        "distribution_train_2 = train_v2['spam'].value_counts()\n",
        "distribution_valid_2 = validation_v2['spam'].value_counts()\n",
        "print(\"Test Data\")\n",
        "print(distribution_test_2)\n",
        "print(\"Train Data\")\n",
        "print(distribution_train_2)\n",
        "print(\"Validation Data\")\n",
        "print(distribution_valid_2)"
      ],
      "metadata": {
        "id": "O4zlwxCPw1s5"
      },
      "execution_count": null,
      "outputs": []
    }
  ]
}
